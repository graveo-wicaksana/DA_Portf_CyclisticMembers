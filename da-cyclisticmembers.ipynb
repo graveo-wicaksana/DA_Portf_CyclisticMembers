{
 "cells": [
  {
   "cell_type": "markdown",
   "metadata": {},
   "source": [
    "**My First Portfolio**\n",
    "\n",
    "This is my first markdown using Google Data Analytics Course. I will explain the work step by step in general from the raw data until the summary data. The datas is taken from the divy trip data in Internet."
   ]
  },
  {
   "cell_type": "markdown",
   "metadata": {},
   "source": [
    "1. Load the library"
   ]
  },
  {
   "cell_type": "code",
   "execution_count": 3,
   "metadata": {
    "execution": {
     "iopub.execute_input": "2025-08-09T05:28:54.004926Z",
     "iopub.status.busy": "2025-08-09T05:28:54.002537Z",
     "iopub.status.idle": "2025-08-09T05:28:56.115142Z",
     "shell.execute_reply": "2025-08-09T05:28:56.110775Z"
    },
    "trusted": true,
    "vscode": {
     "languageId": "r"
    }
   },
   "outputs": [],
   "source": [
    "library (tidyverse)\n",
    "library (lubridate)\n",
    "library (ggplot2)"
   ]
  },
  {
   "cell_type": "markdown",
   "metadata": {},
   "source": [
    "2. Upload the csv file into R"
   ]
  },
  {
   "cell_type": "code",
   "execution_count": 4,
   "metadata": {
    "execution": {
     "iopub.execute_input": "2025-08-09T05:28:56.205603Z",
     "iopub.status.busy": "2025-08-09T05:28:56.121300Z",
     "iopub.status.idle": "2025-08-09T05:30:46.190084Z",
     "shell.execute_reply": "2025-08-09T05:30:46.188257Z"
    },
    "trusted": true,
    "vscode": {
     "languageId": "r"
    }
   },
   "outputs": [],
   "source": [
    "month_2021_11 <- read.csv(\"../input/yeartoyear-trip-data/202111-divvy-tripdata.csv\")\n",
    "month_2021_12 <- read.csv(\"../input/yeartoyear-trip-data/202112-divvy-tripdata.csv\")\n",
    "month_2022_01 <- read.csv(\"../input/yeartoyear-trip-data/202201-divvy-tripdata.csv\")\n",
    "month_2022_02 <- read.csv(\"../input/yeartoyear-trip-data/202202-divvy-tripdata.csv\")\n",
    "month_2022_03 <- read.csv(\"../input/yeartoyear-trip-data/202203-divvy-tripdata.csv\")\n",
    "month_2022_04 <- read.csv(\"../input/yeartoyear-trip-data/202204-divvy-tripdata.csv\")\n",
    "month_2022_05 <- read.csv(\"../input/yeartoyear-trip-data/202205-divvy-tripdata.csv\")\n",
    "month_2022_06 <- read.csv(\"../input/yeartoyear-trip-data/202206-divvy-tripdata.csv\")\n",
    "month_2022_07 <- read.csv(\"../input/yeartoyear-trip-data/202207-divvy-tripdata.csv\")\n",
    "month_2022_08 <- read.csv(\"../input/yeartoyear-trip-data/202208-divvy-tripdata.csv\")\n",
    "month_2022_09 <- read.csv(\"../input/yeartoyear-trip-data/202209-divvy-publictripdata.csv\")\n",
    "month_2022_10 <- read.csv(\"../input/yeartoyear-trip-data/202210-divvy-tripdata.csv\")\n"
   ]
  },
  {
   "cell_type": "markdown",
   "metadata": {},
   "source": [
    "3. Combine the data into a table"
   ]
  },
  {
   "cell_type": "code",
   "execution_count": 5,
   "metadata": {
    "execution": {
     "iopub.execute_input": "2025-08-09T05:30:46.193844Z",
     "iopub.status.busy": "2025-08-09T05:30:46.192441Z",
     "iopub.status.idle": "2025-08-09T05:30:54.879203Z",
     "shell.execute_reply": "2025-08-09T05:30:54.877469Z"
    },
    "trusted": true,
    "vscode": {
     "languageId": "r"
    }
   },
   "outputs": [],
   "source": [
    "all_trips <- bind_rows(month_2021_11, month_2021_12, month_2022_01,\n",
    "                       month_2022_02, month_2022_03, month_2022_04,\n",
    "                       month_2022_05, month_2022_06, month_2022_07,\n",
    "                       month_2022_08, month_2022_09, month_2022_10)"
   ]
  },
  {
   "cell_type": "markdown",
   "metadata": {},
   "source": [
    "4. Checking the data. So we can be sure what is the data we're dealing with"
   ]
  },
  {
   "cell_type": "code",
   "execution_count": 6,
   "metadata": {
    "execution": {
     "iopub.execute_input": "2025-08-09T05:30:54.882824Z",
     "iopub.status.busy": "2025-08-09T05:30:54.881510Z",
     "iopub.status.idle": "2025-08-09T05:30:54.943269Z",
     "shell.execute_reply": "2025-08-09T05:30:54.941648Z"
    },
    "trusted": true,
    "vscode": {
     "languageId": "r"
    }
   },
   "outputs": [
    {
     "data": {
      "text/html": [
       "<style>\n",
       ".list-inline {list-style: none; margin:0; padding: 0}\n",
       ".list-inline>li {display: inline-block}\n",
       ".list-inline>li:not(:last-child)::after {content: \"\\00b7\"; padding: 0 .5ex}\n",
       "</style>\n",
       "<ol class=list-inline><li>'ride_id'</li><li>'rideable_type'</li><li>'started_at'</li><li>'ended_at'</li><li>'start_station_name'</li><li>'start_station_id'</li><li>'end_station_name'</li><li>'end_station_id'</li><li>'start_lat'</li><li>'start_lng'</li><li>'end_lat'</li><li>'end_lng'</li><li>'member_casual'</li></ol>\n"
      ],
      "text/latex": [
       "\\begin{enumerate*}\n",
       "\\item 'ride\\_id'\n",
       "\\item 'rideable\\_type'\n",
       "\\item 'started\\_at'\n",
       "\\item 'ended\\_at'\n",
       "\\item 'start\\_station\\_name'\n",
       "\\item 'start\\_station\\_id'\n",
       "\\item 'end\\_station\\_name'\n",
       "\\item 'end\\_station\\_id'\n",
       "\\item 'start\\_lat'\n",
       "\\item 'start\\_lng'\n",
       "\\item 'end\\_lat'\n",
       "\\item 'end\\_lng'\n",
       "\\item 'member\\_casual'\n",
       "\\end{enumerate*}\n"
      ],
      "text/markdown": [
       "1. 'ride_id'\n",
       "2. 'rideable_type'\n",
       "3. 'started_at'\n",
       "4. 'ended_at'\n",
       "5. 'start_station_name'\n",
       "6. 'start_station_id'\n",
       "7. 'end_station_name'\n",
       "8. 'end_station_id'\n",
       "9. 'start_lat'\n",
       "10. 'start_lng'\n",
       "11. 'end_lat'\n",
       "12. 'end_lng'\n",
       "13. 'member_casual'\n",
       "\n",
       "\n"
      ],
      "text/plain": [
       " [1] \"ride_id\"            \"rideable_type\"      \"started_at\"        \n",
       " [4] \"ended_at\"           \"start_station_name\" \"start_station_id\"  \n",
       " [7] \"end_station_name\"   \"end_station_id\"     \"start_lat\"         \n",
       "[10] \"start_lng\"          \"end_lat\"            \"end_lng\"           \n",
       "[13] \"member_casual\"     "
      ]
     },
     "metadata": {},
     "output_type": "display_data"
    },
    {
     "data": {
      "text/html": [
       "<style>\n",
       ".list-inline {list-style: none; margin:0; padding: 0}\n",
       ".list-inline>li {display: inline-block}\n",
       ".list-inline>li:not(:last-child)::after {content: \"\\00b7\"; padding: 0 .5ex}\n",
       "</style>\n",
       "<ol class=list-inline><li>5755694</li><li>13</li></ol>\n"
      ],
      "text/latex": [
       "\\begin{enumerate*}\n",
       "\\item 5755694\n",
       "\\item 13\n",
       "\\end{enumerate*}\n"
      ],
      "text/markdown": [
       "1. 5755694\n",
       "2. 13\n",
       "\n",
       "\n"
      ],
      "text/plain": [
       "[1] 5755694      13"
      ]
     },
     "metadata": {},
     "output_type": "display_data"
    },
    {
     "data": {
      "text/html": [
       "<table class=\"dataframe\">\n",
       "<caption>A data.frame: 6 × 13</caption>\n",
       "<thead>\n",
       "\t<tr><th></th><th scope=col>ride_id</th><th scope=col>rideable_type</th><th scope=col>started_at</th><th scope=col>ended_at</th><th scope=col>start_station_name</th><th scope=col>start_station_id</th><th scope=col>end_station_name</th><th scope=col>end_station_id</th><th scope=col>start_lat</th><th scope=col>start_lng</th><th scope=col>end_lat</th><th scope=col>end_lng</th><th scope=col>member_casual</th></tr>\n",
       "\t<tr><th></th><th scope=col>&lt;chr&gt;</th><th scope=col>&lt;chr&gt;</th><th scope=col>&lt;chr&gt;</th><th scope=col>&lt;chr&gt;</th><th scope=col>&lt;chr&gt;</th><th scope=col>&lt;chr&gt;</th><th scope=col>&lt;chr&gt;</th><th scope=col>&lt;chr&gt;</th><th scope=col>&lt;dbl&gt;</th><th scope=col>&lt;dbl&gt;</th><th scope=col>&lt;dbl&gt;</th><th scope=col>&lt;dbl&gt;</th><th scope=col>&lt;chr&gt;</th></tr>\n",
       "</thead>\n",
       "<tbody>\n",
       "\t<tr><th scope=row>1</th><td>7C00A93E10556E47</td><td>electric_bike</td><td>2021-11-27 13:27:38</td><td>2021-11-27 13:46:38</td><td>                     </td><td>     </td><td></td><td></td><td>41.93000</td><td>-87.72000</td><td>41.96</td><td>-87.73</td><td>casual</td></tr>\n",
       "\t<tr><th scope=row>2</th><td>90854840DFD508BA</td><td>electric_bike</td><td>2021-11-27 13:38:25</td><td>2021-11-27 13:56:10</td><td>                     </td><td>     </td><td></td><td></td><td>41.96000</td><td>-87.70000</td><td>41.92</td><td>-87.70</td><td>casual</td></tr>\n",
       "\t<tr><th scope=row>3</th><td>0A7D10CDD144061C</td><td>electric_bike</td><td>2021-11-26 22:03:34</td><td>2021-11-26 22:05:56</td><td>                     </td><td>     </td><td></td><td></td><td>41.96000</td><td>-87.70000</td><td>41.96</td><td>-87.70</td><td>casual</td></tr>\n",
       "\t<tr><th scope=row>4</th><td>2F3BE33085BCFF02</td><td>electric_bike</td><td>2021-11-27 09:56:49</td><td>2021-11-27 10:01:50</td><td>                     </td><td>     </td><td></td><td></td><td>41.94000</td><td>-87.79000</td><td>41.93</td><td>-87.79</td><td>casual</td></tr>\n",
       "\t<tr><th scope=row>5</th><td>D67B4781A19928D4</td><td>electric_bike</td><td>2021-11-26 19:09:28</td><td>2021-11-26 19:30:41</td><td>                     </td><td>     </td><td></td><td></td><td>41.90000</td><td>-87.63000</td><td>41.88</td><td>-87.62</td><td>casual</td></tr>\n",
       "\t<tr><th scope=row>6</th><td>02F85C2C3C5F7D46</td><td>electric_bike</td><td>2021-11-26 18:34:07</td><td>2021-11-26 18:52:49</td><td>Michigan Ave &amp; Oak St</td><td>13042</td><td></td><td></td><td>41.90086</td><td>-87.62379</td><td>41.90</td><td>-87.63</td><td>casual</td></tr>\n",
       "</tbody>\n",
       "</table>\n"
      ],
      "text/latex": [
       "A data.frame: 6 × 13\n",
       "\\begin{tabular}{r|lllllllllllll}\n",
       "  & ride\\_id & rideable\\_type & started\\_at & ended\\_at & start\\_station\\_name & start\\_station\\_id & end\\_station\\_name & end\\_station\\_id & start\\_lat & start\\_lng & end\\_lat & end\\_lng & member\\_casual\\\\\n",
       "  & <chr> & <chr> & <chr> & <chr> & <chr> & <chr> & <chr> & <chr> & <dbl> & <dbl> & <dbl> & <dbl> & <chr>\\\\\n",
       "\\hline\n",
       "\t1 & 7C00A93E10556E47 & electric\\_bike & 2021-11-27 13:27:38 & 2021-11-27 13:46:38 &                       &       &  &  & 41.93000 & -87.72000 & 41.96 & -87.73 & casual\\\\\n",
       "\t2 & 90854840DFD508BA & electric\\_bike & 2021-11-27 13:38:25 & 2021-11-27 13:56:10 &                       &       &  &  & 41.96000 & -87.70000 & 41.92 & -87.70 & casual\\\\\n",
       "\t3 & 0A7D10CDD144061C & electric\\_bike & 2021-11-26 22:03:34 & 2021-11-26 22:05:56 &                       &       &  &  & 41.96000 & -87.70000 & 41.96 & -87.70 & casual\\\\\n",
       "\t4 & 2F3BE33085BCFF02 & electric\\_bike & 2021-11-27 09:56:49 & 2021-11-27 10:01:50 &                       &       &  &  & 41.94000 & -87.79000 & 41.93 & -87.79 & casual\\\\\n",
       "\t5 & D67B4781A19928D4 & electric\\_bike & 2021-11-26 19:09:28 & 2021-11-26 19:30:41 &                       &       &  &  & 41.90000 & -87.63000 & 41.88 & -87.62 & casual\\\\\n",
       "\t6 & 02F85C2C3C5F7D46 & electric\\_bike & 2021-11-26 18:34:07 & 2021-11-26 18:52:49 & Michigan Ave \\& Oak St & 13042 &  &  & 41.90086 & -87.62379 & 41.90 & -87.63 & casual\\\\\n",
       "\\end{tabular}\n"
      ],
      "text/markdown": [
       "\n",
       "A data.frame: 6 × 13\n",
       "\n",
       "| <!--/--> | ride_id &lt;chr&gt; | rideable_type &lt;chr&gt; | started_at &lt;chr&gt; | ended_at &lt;chr&gt; | start_station_name &lt;chr&gt; | start_station_id &lt;chr&gt; | end_station_name &lt;chr&gt; | end_station_id &lt;chr&gt; | start_lat &lt;dbl&gt; | start_lng &lt;dbl&gt; | end_lat &lt;dbl&gt; | end_lng &lt;dbl&gt; | member_casual &lt;chr&gt; |\n",
       "|---|---|---|---|---|---|---|---|---|---|---|---|---|---|\n",
       "| 1 | 7C00A93E10556E47 | electric_bike | 2021-11-27 13:27:38 | 2021-11-27 13:46:38 | <!----> | <!----> | <!----> | <!----> | 41.93000 | -87.72000 | 41.96 | -87.73 | casual |\n",
       "| 2 | 90854840DFD508BA | electric_bike | 2021-11-27 13:38:25 | 2021-11-27 13:56:10 | <!----> | <!----> | <!----> | <!----> | 41.96000 | -87.70000 | 41.92 | -87.70 | casual |\n",
       "| 3 | 0A7D10CDD144061C | electric_bike | 2021-11-26 22:03:34 | 2021-11-26 22:05:56 | <!----> | <!----> | <!----> | <!----> | 41.96000 | -87.70000 | 41.96 | -87.70 | casual |\n",
       "| 4 | 2F3BE33085BCFF02 | electric_bike | 2021-11-27 09:56:49 | 2021-11-27 10:01:50 | <!----> | <!----> | <!----> | <!----> | 41.94000 | -87.79000 | 41.93 | -87.79 | casual |\n",
       "| 5 | D67B4781A19928D4 | electric_bike | 2021-11-26 19:09:28 | 2021-11-26 19:30:41 | <!----> | <!----> | <!----> | <!----> | 41.90000 | -87.63000 | 41.88 | -87.62 | casual |\n",
       "| 6 | 02F85C2C3C5F7D46 | electric_bike | 2021-11-26 18:34:07 | 2021-11-26 18:52:49 | Michigan Ave &amp; Oak St | 13042 | <!----> | <!----> | 41.90086 | -87.62379 | 41.90 | -87.63 | casual |\n",
       "\n"
      ],
      "text/plain": [
       "  ride_id          rideable_type started_at          ended_at           \n",
       "1 7C00A93E10556E47 electric_bike 2021-11-27 13:27:38 2021-11-27 13:46:38\n",
       "2 90854840DFD508BA electric_bike 2021-11-27 13:38:25 2021-11-27 13:56:10\n",
       "3 0A7D10CDD144061C electric_bike 2021-11-26 22:03:34 2021-11-26 22:05:56\n",
       "4 2F3BE33085BCFF02 electric_bike 2021-11-27 09:56:49 2021-11-27 10:01:50\n",
       "5 D67B4781A19928D4 electric_bike 2021-11-26 19:09:28 2021-11-26 19:30:41\n",
       "6 02F85C2C3C5F7D46 electric_bike 2021-11-26 18:34:07 2021-11-26 18:52:49\n",
       "  start_station_name    start_station_id end_station_name end_station_id\n",
       "1                                                                       \n",
       "2                                                                       \n",
       "3                                                                       \n",
       "4                                                                       \n",
       "5                                                                       \n",
       "6 Michigan Ave & Oak St 13042                                           \n",
       "  start_lat start_lng end_lat end_lng member_casual\n",
       "1 41.93000  -87.72000 41.96   -87.73  casual       \n",
       "2 41.96000  -87.70000 41.92   -87.70  casual       \n",
       "3 41.96000  -87.70000 41.96   -87.70  casual       \n",
       "4 41.94000  -87.79000 41.93   -87.79  casual       \n",
       "5 41.90000  -87.63000 41.88   -87.62  casual       \n",
       "6 41.90086  -87.62379 41.90   -87.63  casual       "
      ]
     },
     "metadata": {},
     "output_type": "display_data"
    },
    {
     "name": "stdout",
     "output_type": "stream",
     "text": [
      "'data.frame':\t5755694 obs. of  13 variables:\n",
      " $ ride_id           : chr  \"7C00A93E10556E47\" \"90854840DFD508BA\" \"0A7D10CDD144061C\" \"2F3BE33085BCFF02\" ...\n",
      " $ rideable_type     : chr  \"electric_bike\" \"electric_bike\" \"electric_bike\" \"electric_bike\" ...\n",
      " $ started_at        : chr  \"2021-11-27 13:27:38\" \"2021-11-27 13:38:25\" \"2021-11-26 22:03:34\" \"2021-11-27 09:56:49\" ...\n",
      " $ ended_at          : chr  \"2021-11-27 13:46:38\" \"2021-11-27 13:56:10\" \"2021-11-26 22:05:56\" \"2021-11-27 10:01:50\" ...\n",
      " $ start_station_name: chr  \"\" \"\" \"\" \"\" ...\n",
      " $ start_station_id  : chr  \"\" \"\" \"\" \"\" ...\n",
      " $ end_station_name  : chr  \"\" \"\" \"\" \"\" ...\n",
      " $ end_station_id    : chr  \"\" \"\" \"\" \"\" ...\n",
      " $ start_lat         : num  41.9 42 42 41.9 41.9 ...\n",
      " $ start_lng         : num  -87.7 -87.7 -87.7 -87.8 -87.6 ...\n",
      " $ end_lat           : num  42 41.9 42 41.9 41.9 ...\n",
      " $ end_lng           : num  -87.7 -87.7 -87.7 -87.8 -87.6 ...\n",
      " $ member_casual     : chr  \"casual\" \"casual\" \"casual\" \"casual\" ...\n"
     ]
    }
   ],
   "source": [
    "colnames(all_trips)\n",
    "dim(all_trips)\n",
    "head(all_trips)\n",
    "str(all_trips)"
   ]
  },
  {
   "cell_type": "markdown",
   "metadata": {},
   "source": [
    "5. Adding 5 new columns.  \n",
    "a. Date. We focused on the started date since it reflects the start of renting  \n",
    "b. Year. We prepare the data that contains different year.  \n",
    "c. Month. We can know the data if we need for specific month.  \n",
    "d. Day. We separate spesifically for the date.  \n",
    "e. Day_of_week. To easier analyze, we can add the new column for the type of day so we can be sure about the effects for weekdays and weekend. "
   ]
  },
  {
   "cell_type": "code",
   "execution_count": 7,
   "metadata": {
    "execution": {
     "iopub.execute_input": "2025-08-09T05:30:54.946767Z",
     "iopub.status.busy": "2025-08-09T05:30:54.945489Z",
     "iopub.status.idle": "2025-08-09T05:31:29.703965Z",
     "shell.execute_reply": "2025-08-09T05:31:29.702205Z"
    },
    "trusted": true,
    "vscode": {
     "languageId": "r"
    }
   },
   "outputs": [],
   "source": [
    "all_trips$date <- as.Date(all_trips$started_at)\n",
    "all_trips$year <- format(all_trips$date, \"%Y\")\n",
    "all_trips$month <- format(all_trips$date, \"%m\")\n",
    "all_trips$day <- format(all_trips$date, \"%d\")\n",
    "all_trips$day_of_week <- format(all_trips$date, \"%A\")"
   ]
  },
  {
   "cell_type": "markdown",
   "metadata": {},
   "source": [
    "6. Show the total day of week to ensure there is no bad data"
   ]
  },
  {
   "cell_type": "code",
   "execution_count": 8,
   "metadata": {
    "execution": {
     "iopub.execute_input": "2025-08-09T05:31:29.707486Z",
     "iopub.status.busy": "2025-08-09T05:31:29.706235Z",
     "iopub.status.idle": "2025-08-09T05:31:29.907580Z",
     "shell.execute_reply": "2025-08-09T05:31:29.905938Z"
    },
    "trusted": true,
    "vscode": {
     "languageId": "r"
    }
   },
   "outputs": [
    {
     "data": {
      "text/html": [
       "<table class=\"dataframe\">\n",
       "<caption>A data.frame: 7 × 2</caption>\n",
       "<thead>\n",
       "\t<tr><th scope=col>day_of_week</th><th scope=col>n</th></tr>\n",
       "\t<tr><th scope=col>&lt;chr&gt;</th><th scope=col>&lt;int&gt;</th></tr>\n",
       "</thead>\n",
       "<tbody>\n",
       "\t<tr><td>Friday   </td><td>815654</td></tr>\n",
       "\t<tr><td>Monday   </td><td>774657</td></tr>\n",
       "\t<tr><td>Saturday </td><td>939671</td></tr>\n",
       "\t<tr><td>Sunday   </td><td>792931</td></tr>\n",
       "\t<tr><td>Thursday </td><td>839620</td></tr>\n",
       "\t<tr><td>Tuesday  </td><td>788110</td></tr>\n",
       "\t<tr><td>Wednesday</td><td>805051</td></tr>\n",
       "</tbody>\n",
       "</table>\n"
      ],
      "text/latex": [
       "A data.frame: 7 × 2\n",
       "\\begin{tabular}{ll}\n",
       " day\\_of\\_week & n\\\\\n",
       " <chr> & <int>\\\\\n",
       "\\hline\n",
       "\t Friday    & 815654\\\\\n",
       "\t Monday    & 774657\\\\\n",
       "\t Saturday  & 939671\\\\\n",
       "\t Sunday    & 792931\\\\\n",
       "\t Thursday  & 839620\\\\\n",
       "\t Tuesday   & 788110\\\\\n",
       "\t Wednesday & 805051\\\\\n",
       "\\end{tabular}\n"
      ],
      "text/markdown": [
       "\n",
       "A data.frame: 7 × 2\n",
       "\n",
       "| day_of_week &lt;chr&gt; | n &lt;int&gt; |\n",
       "|---|---|\n",
       "| Friday    | 815654 |\n",
       "| Monday    | 774657 |\n",
       "| Saturday  | 939671 |\n",
       "| Sunday    | 792931 |\n",
       "| Thursday  | 839620 |\n",
       "| Tuesday   | 788110 |\n",
       "| Wednesday | 805051 |\n",
       "\n"
      ],
      "text/plain": [
       "  day_of_week n     \n",
       "1 Friday      815654\n",
       "2 Monday      774657\n",
       "3 Saturday    939671\n",
       "4 Sunday      792931\n",
       "5 Thursday    839620\n",
       "6 Tuesday     788110\n",
       "7 Wednesday   805051"
      ]
     },
     "metadata": {},
     "output_type": "display_data"
    }
   ],
   "source": [
    "all_trips %>% count(day_of_week)"
   ]
  },
  {
   "cell_type": "markdown",
   "metadata": {},
   "source": [
    "7. Adding time different to know the duration"
   ]
  },
  {
   "cell_type": "code",
   "execution_count": 9,
   "metadata": {
    "execution": {
     "iopub.execute_input": "2025-08-09T05:31:29.911285Z",
     "iopub.status.busy": "2025-08-09T05:31:29.909857Z",
     "iopub.status.idle": "2025-08-09T05:32:10.643191Z",
     "shell.execute_reply": "2025-08-09T05:32:10.641407Z"
    },
    "trusted": true,
    "vscode": {
     "languageId": "r"
    }
   },
   "outputs": [],
   "source": [
    "all_trips$ride_length <- difftime(all_trips$ended_at, all_trips$started_at)\n",
    "all_trips$ride_length <- as.numeric(as.character(all_trips$ride_length))"
   ]
  },
  {
   "cell_type": "markdown",
   "metadata": {},
   "source": [
    "8. Checking for the bad data, especially the null value of start station name and minus value of time different"
   ]
  },
  {
   "cell_type": "code",
   "execution_count": 10,
   "metadata": {
    "execution": {
     "iopub.execute_input": "2025-08-09T05:32:10.648424Z",
     "iopub.status.busy": "2025-08-09T05:32:10.646794Z",
     "iopub.status.idle": "2025-08-09T05:32:11.194644Z",
     "shell.execute_reply": "2025-08-09T05:32:11.192364Z"
    },
    "trusted": true,
    "vscode": {
     "languageId": "r"
    }
   },
   "outputs": [
    {
     "data": {
      "text/html": [
       "<table class=\"dataframe\">\n",
       "<caption>A data.frame: 2 × 2</caption>\n",
       "<thead>\n",
       "\t<tr><th scope=col>(start_station_name == \"\") | (is.na(start_station_name))</th><th scope=col>n</th></tr>\n",
       "\t<tr><th scope=col>&lt;lgl&gt;</th><th scope=col>&lt;int&gt;</th></tr>\n",
       "</thead>\n",
       "<tbody>\n",
       "\t<tr><td>FALSE</td><td>4877517</td></tr>\n",
       "\t<tr><td> TRUE</td><td> 878177</td></tr>\n",
       "</tbody>\n",
       "</table>\n"
      ],
      "text/latex": [
       "A data.frame: 2 × 2\n",
       "\\begin{tabular}{ll}\n",
       " (start\\_station\\_name == \"\") \\textbar{} (is.na(start\\_station\\_name)) & n\\\\\n",
       " <lgl> & <int>\\\\\n",
       "\\hline\n",
       "\t FALSE & 4877517\\\\\n",
       "\t  TRUE &  878177\\\\\n",
       "\\end{tabular}\n"
      ],
      "text/markdown": [
       "\n",
       "A data.frame: 2 × 2\n",
       "\n",
       "| (start_station_name == \"\") | (is.na(start_station_name)) &lt;lgl&gt; | n &lt;int&gt; |\n",
       "|---|---|\n",
       "| FALSE | 4877517 |\n",
       "|  TRUE |  878177 |\n",
       "\n"
      ],
      "text/plain": [
       "  (start_station_name == \"\") | (is.na(start_station_name)) n      \n",
       "1 FALSE                                                    4877517\n",
       "2  TRUE                                                     878177"
      ]
     },
     "metadata": {},
     "output_type": "display_data"
    },
    {
     "data": {
      "text/html": [
       "<table class=\"dataframe\">\n",
       "<caption>A data.frame: 2 × 2</caption>\n",
       "<thead>\n",
       "\t<tr><th scope=col>ride_length &lt; 0</th><th scope=col>n</th></tr>\n",
       "\t<tr><th scope=col>&lt;lgl&gt;</th><th scope=col>&lt;int&gt;</th></tr>\n",
       "</thead>\n",
       "<tbody>\n",
       "\t<tr><td>FALSE</td><td>5755582</td></tr>\n",
       "\t<tr><td> TRUE</td><td>    112</td></tr>\n",
       "</tbody>\n",
       "</table>\n"
      ],
      "text/latex": [
       "A data.frame: 2 × 2\n",
       "\\begin{tabular}{ll}\n",
       " ride\\_length < 0 & n\\\\\n",
       " <lgl> & <int>\\\\\n",
       "\\hline\n",
       "\t FALSE & 5755582\\\\\n",
       "\t  TRUE &     112\\\\\n",
       "\\end{tabular}\n"
      ],
      "text/markdown": [
       "\n",
       "A data.frame: 2 × 2\n",
       "\n",
       "| ride_length &lt; 0 &lt;lgl&gt; | n &lt;int&gt; |\n",
       "|---|---|\n",
       "| FALSE | 5755582 |\n",
       "|  TRUE |     112 |\n",
       "\n"
      ],
      "text/plain": [
       "  ride_length < 0 n      \n",
       "1 FALSE           5755582\n",
       "2  TRUE               112"
      ]
     },
     "metadata": {},
     "output_type": "display_data"
    }
   ],
   "source": [
    "all_trips %>% count((start_station_name == \"\") | (is.na(start_station_name)))\n",
    "all_trips %>% count(ride_length < 0)"
   ]
  },
  {
   "cell_type": "markdown",
   "metadata": {},
   "source": [
    "9. Clean the bad data by inserting the clean data into a new variable"
   ]
  },
  {
   "cell_type": "code",
   "execution_count": 11,
   "metadata": {
    "execution": {
     "iopub.execute_input": "2025-08-09T05:32:11.199582Z",
     "iopub.status.busy": "2025-08-09T05:32:11.197995Z",
     "iopub.status.idle": "2025-08-09T05:32:21.655442Z",
     "shell.execute_reply": "2025-08-09T05:32:21.653690Z"
    },
    "trusted": true,
    "vscode": {
     "languageId": "r"
    }
   },
   "outputs": [],
   "source": [
    "all_trips_v2 <- all_trips[!(all_trips$start_station_name == \"\" | is.na(all_trips$start_station_name)|all_trips$ride_length<0),]"
   ]
  },
  {
   "cell_type": "markdown",
   "metadata": {},
   "source": [
    "10. Calculate the descriptive analysis like median, mean, etc."
   ]
  },
  {
   "cell_type": "code",
   "execution_count": 12,
   "metadata": {
    "execution": {
     "iopub.execute_input": "2025-08-09T05:32:21.659078Z",
     "iopub.status.busy": "2025-08-09T05:32:21.657756Z",
     "iopub.status.idle": "2025-08-09T05:32:21.955180Z",
     "shell.execute_reply": "2025-08-09T05:32:21.953388Z"
    },
    "trusted": true,
    "vscode": {
     "languageId": "r"
    }
   },
   "outputs": [
    {
     "data": {
      "text/plain": [
       "   Min. 1st Qu.  Median    Mean 3rd Qu.    Max. \n",
       "      0     362     635    1235    1141 2483235 "
      ]
     },
     "metadata": {},
     "output_type": "display_data"
    }
   ],
   "source": [
    "summary(all_trips_v2$ride_length)"
   ]
  },
  {
   "cell_type": "markdown",
   "metadata": {},
   "source": [
    "11. Do comparison between annual members and casual members"
   ]
  },
  {
   "cell_type": "code",
   "execution_count": 13,
   "metadata": {
    "execution": {
     "iopub.execute_input": "2025-08-09T05:32:21.958837Z",
     "iopub.status.busy": "2025-08-09T05:32:21.957498Z",
     "iopub.status.idle": "2025-08-09T05:32:37.891114Z",
     "shell.execute_reply": "2025-08-09T05:32:37.889320Z"
    },
    "trusted": true,
    "vscode": {
     "languageId": "r"
    }
   },
   "outputs": [
    {
     "data": {
      "text/html": [
       "<table class=\"dataframe\">\n",
       "<caption>A data.frame: 2 × 2</caption>\n",
       "<thead>\n",
       "\t<tr><th scope=col>all_trips_v2$member_casual</th><th scope=col>all_trips_v2$ride_length</th></tr>\n",
       "\t<tr><th scope=col>&lt;chr&gt;</th><th scope=col>&lt;dbl&gt;</th></tr>\n",
       "</thead>\n",
       "<tbody>\n",
       "\t<tr><td>casual</td><td>1905.9729</td></tr>\n",
       "\t<tr><td>member</td><td> 772.3995</td></tr>\n",
       "</tbody>\n",
       "</table>\n"
      ],
      "text/latex": [
       "A data.frame: 2 × 2\n",
       "\\begin{tabular}{ll}\n",
       " all\\_trips\\_v2\\$member\\_casual & all\\_trips\\_v2\\$ride\\_length\\\\\n",
       " <chr> & <dbl>\\\\\n",
       "\\hline\n",
       "\t casual & 1905.9729\\\\\n",
       "\t member &  772.3995\\\\\n",
       "\\end{tabular}\n"
      ],
      "text/markdown": [
       "\n",
       "A data.frame: 2 × 2\n",
       "\n",
       "| all_trips_v2$member_casual &lt;chr&gt; | all_trips_v2$ride_length &lt;dbl&gt; |\n",
       "|---|---|\n",
       "| casual | 1905.9729 |\n",
       "| member |  772.3995 |\n",
       "\n"
      ],
      "text/plain": [
       "  all_trips_v2$member_casual all_trips_v2$ride_length\n",
       "1 casual                     1905.9729               \n",
       "2 member                      772.3995               "
      ]
     },
     "metadata": {},
     "output_type": "display_data"
    },
    {
     "data": {
      "text/html": [
       "<table class=\"dataframe\">\n",
       "<caption>A data.frame: 2 × 2</caption>\n",
       "<thead>\n",
       "\t<tr><th scope=col>all_trips_v2$member_casual</th><th scope=col>all_trips_v2$ride_length</th></tr>\n",
       "\t<tr><th scope=col>&lt;chr&gt;</th><th scope=col>&lt;dbl&gt;</th></tr>\n",
       "</thead>\n",
       "<tbody>\n",
       "\t<tr><td>casual</td><td>824</td></tr>\n",
       "\t<tr><td>member</td><td>538</td></tr>\n",
       "</tbody>\n",
       "</table>\n"
      ],
      "text/latex": [
       "A data.frame: 2 × 2\n",
       "\\begin{tabular}{ll}\n",
       " all\\_trips\\_v2\\$member\\_casual & all\\_trips\\_v2\\$ride\\_length\\\\\n",
       " <chr> & <dbl>\\\\\n",
       "\\hline\n",
       "\t casual & 824\\\\\n",
       "\t member & 538\\\\\n",
       "\\end{tabular}\n"
      ],
      "text/markdown": [
       "\n",
       "A data.frame: 2 × 2\n",
       "\n",
       "| all_trips_v2$member_casual &lt;chr&gt; | all_trips_v2$ride_length &lt;dbl&gt; |\n",
       "|---|---|\n",
       "| casual | 824 |\n",
       "| member | 538 |\n",
       "\n"
      ],
      "text/plain": [
       "  all_trips_v2$member_casual all_trips_v2$ride_length\n",
       "1 casual                     824                     \n",
       "2 member                     538                     "
      ]
     },
     "metadata": {},
     "output_type": "display_data"
    },
    {
     "data": {
      "text/html": [
       "<table class=\"dataframe\">\n",
       "<caption>A data.frame: 2 × 2</caption>\n",
       "<thead>\n",
       "\t<tr><th scope=col>all_trips_v2$member_casual</th><th scope=col>all_trips_v2$ride_length</th></tr>\n",
       "\t<tr><th scope=col>&lt;chr&gt;</th><th scope=col>&lt;dbl&gt;</th></tr>\n",
       "</thead>\n",
       "<tbody>\n",
       "\t<tr><td>casual</td><td>0</td></tr>\n",
       "\t<tr><td>member</td><td>0</td></tr>\n",
       "</tbody>\n",
       "</table>\n"
      ],
      "text/latex": [
       "A data.frame: 2 × 2\n",
       "\\begin{tabular}{ll}\n",
       " all\\_trips\\_v2\\$member\\_casual & all\\_trips\\_v2\\$ride\\_length\\\\\n",
       " <chr> & <dbl>\\\\\n",
       "\\hline\n",
       "\t casual & 0\\\\\n",
       "\t member & 0\\\\\n",
       "\\end{tabular}\n"
      ],
      "text/markdown": [
       "\n",
       "A data.frame: 2 × 2\n",
       "\n",
       "| all_trips_v2$member_casual &lt;chr&gt; | all_trips_v2$ride_length &lt;dbl&gt; |\n",
       "|---|---|\n",
       "| casual | 0 |\n",
       "| member | 0 |\n",
       "\n"
      ],
      "text/plain": [
       "  all_trips_v2$member_casual all_trips_v2$ride_length\n",
       "1 casual                     0                       \n",
       "2 member                     0                       "
      ]
     },
     "metadata": {},
     "output_type": "display_data"
    },
    {
     "data": {
      "text/html": [
       "<table class=\"dataframe\">\n",
       "<caption>A data.frame: 2 × 2</caption>\n",
       "<thead>\n",
       "\t<tr><th scope=col>all_trips_v2$member_casual</th><th scope=col>all_trips_v2$ride_length</th></tr>\n",
       "\t<tr><th scope=col>&lt;chr&gt;</th><th scope=col>&lt;dbl&gt;</th></tr>\n",
       "</thead>\n",
       "<tbody>\n",
       "\t<tr><td>casual</td><td>2483235</td></tr>\n",
       "\t<tr><td>member</td><td>  93594</td></tr>\n",
       "</tbody>\n",
       "</table>\n"
      ],
      "text/latex": [
       "A data.frame: 2 × 2\n",
       "\\begin{tabular}{ll}\n",
       " all\\_trips\\_v2\\$member\\_casual & all\\_trips\\_v2\\$ride\\_length\\\\\n",
       " <chr> & <dbl>\\\\\n",
       "\\hline\n",
       "\t casual & 2483235\\\\\n",
       "\t member &   93594\\\\\n",
       "\\end{tabular}\n"
      ],
      "text/markdown": [
       "\n",
       "A data.frame: 2 × 2\n",
       "\n",
       "| all_trips_v2$member_casual &lt;chr&gt; | all_trips_v2$ride_length &lt;dbl&gt; |\n",
       "|---|---|\n",
       "| casual | 2483235 |\n",
       "| member |   93594 |\n",
       "\n"
      ],
      "text/plain": [
       "  all_trips_v2$member_casual all_trips_v2$ride_length\n",
       "1 casual                     2483235                 \n",
       "2 member                       93594                 "
      ]
     },
     "metadata": {},
     "output_type": "display_data"
    }
   ],
   "source": [
    "aggregate(all_trips_v2$ride_length ~ all_trips_v2$member_casual, FUN = mean)\n",
    "aggregate(all_trips_v2$ride_length ~ all_trips_v2$member_casual, FUN = median)\n",
    "aggregate(all_trips_v2$ride_length ~ all_trips_v2$member_casual, FUN = min)\n",
    "aggregate(all_trips_v2$ride_length ~ all_trips_v2$member_casual, FUN = max)"
   ]
  },
  {
   "cell_type": "markdown",
   "metadata": {},
   "source": [
    "12. Compare the data for day of week in a year-to-year data"
   ]
  },
  {
   "cell_type": "code",
   "execution_count": 14,
   "metadata": {
    "execution": {
     "iopub.execute_input": "2025-08-09T05:32:37.894772Z",
     "iopub.status.busy": "2025-08-09T05:32:37.893410Z",
     "iopub.status.idle": "2025-08-09T05:32:42.841147Z",
     "shell.execute_reply": "2025-08-09T05:32:42.839496Z"
    },
    "trusted": true,
    "vscode": {
     "languageId": "r"
    }
   },
   "outputs": [
    {
     "data": {
      "text/html": [
       "<table class=\"dataframe\">\n",
       "<caption>A data.frame: 14 × 3</caption>\n",
       "<thead>\n",
       "\t<tr><th scope=col>all_trips_v2$member_casual</th><th scope=col>all_trips_v2$day_of_week</th><th scope=col>all_trips_v2$ride_length</th></tr>\n",
       "\t<tr><th scope=col>&lt;chr&gt;</th><th scope=col>&lt;chr&gt;</th><th scope=col>&lt;dbl&gt;</th></tr>\n",
       "</thead>\n",
       "<tbody>\n",
       "\t<tr><td>casual</td><td>Friday   </td><td>1831.7712</td></tr>\n",
       "\t<tr><td>member</td><td>Friday   </td><td> 756.8946</td></tr>\n",
       "\t<tr><td>casual</td><td>Monday   </td><td>1914.6011</td></tr>\n",
       "\t<tr><td>member</td><td>Monday   </td><td> 746.9502</td></tr>\n",
       "\t<tr><td>casual</td><td>Saturday </td><td>2120.3852</td></tr>\n",
       "\t<tr><td>member</td><td>Saturday </td><td> 866.7139</td></tr>\n",
       "\t<tr><td>casual</td><td>Sunday   </td><td>2203.6463</td></tr>\n",
       "\t<tr><td>member</td><td>Sunday   </td><td> 859.1639</td></tr>\n",
       "\t<tr><td>casual</td><td>Thursday </td><td>1663.3408</td></tr>\n",
       "\t<tr><td>member</td><td>Thursday </td><td> 743.5085</td></tr>\n",
       "\t<tr><td>casual</td><td>Tuesday  </td><td>1702.1567</td></tr>\n",
       "\t<tr><td>member</td><td>Tuesday  </td><td> 735.4691</td></tr>\n",
       "\t<tr><td>casual</td><td>Wednesday</td><td>1627.4296</td></tr>\n",
       "\t<tr><td>member</td><td>Wednesday</td><td> 732.1665</td></tr>\n",
       "</tbody>\n",
       "</table>\n"
      ],
      "text/latex": [
       "A data.frame: 14 × 3\n",
       "\\begin{tabular}{lll}\n",
       " all\\_trips\\_v2\\$member\\_casual & all\\_trips\\_v2\\$day\\_of\\_week & all\\_trips\\_v2\\$ride\\_length\\\\\n",
       " <chr> & <chr> & <dbl>\\\\\n",
       "\\hline\n",
       "\t casual & Friday    & 1831.7712\\\\\n",
       "\t member & Friday    &  756.8946\\\\\n",
       "\t casual & Monday    & 1914.6011\\\\\n",
       "\t member & Monday    &  746.9502\\\\\n",
       "\t casual & Saturday  & 2120.3852\\\\\n",
       "\t member & Saturday  &  866.7139\\\\\n",
       "\t casual & Sunday    & 2203.6463\\\\\n",
       "\t member & Sunday    &  859.1639\\\\\n",
       "\t casual & Thursday  & 1663.3408\\\\\n",
       "\t member & Thursday  &  743.5085\\\\\n",
       "\t casual & Tuesday   & 1702.1567\\\\\n",
       "\t member & Tuesday   &  735.4691\\\\\n",
       "\t casual & Wednesday & 1627.4296\\\\\n",
       "\t member & Wednesday &  732.1665\\\\\n",
       "\\end{tabular}\n"
      ],
      "text/markdown": [
       "\n",
       "A data.frame: 14 × 3\n",
       "\n",
       "| all_trips_v2$member_casual &lt;chr&gt; | all_trips_v2$day_of_week &lt;chr&gt; | all_trips_v2$ride_length &lt;dbl&gt; |\n",
       "|---|---|---|\n",
       "| casual | Friday    | 1831.7712 |\n",
       "| member | Friday    |  756.8946 |\n",
       "| casual | Monday    | 1914.6011 |\n",
       "| member | Monday    |  746.9502 |\n",
       "| casual | Saturday  | 2120.3852 |\n",
       "| member | Saturday  |  866.7139 |\n",
       "| casual | Sunday    | 2203.6463 |\n",
       "| member | Sunday    |  859.1639 |\n",
       "| casual | Thursday  | 1663.3408 |\n",
       "| member | Thursday  |  743.5085 |\n",
       "| casual | Tuesday   | 1702.1567 |\n",
       "| member | Tuesday   |  735.4691 |\n",
       "| casual | Wednesday | 1627.4296 |\n",
       "| member | Wednesday |  732.1665 |\n",
       "\n"
      ],
      "text/plain": [
       "   all_trips_v2$member_casual all_trips_v2$day_of_week all_trips_v2$ride_length\n",
       "1  casual                     Friday                   1831.7712               \n",
       "2  member                     Friday                    756.8946               \n",
       "3  casual                     Monday                   1914.6011               \n",
       "4  member                     Monday                    746.9502               \n",
       "5  casual                     Saturday                 2120.3852               \n",
       "6  member                     Saturday                  866.7139               \n",
       "7  casual                     Sunday                   2203.6463               \n",
       "8  member                     Sunday                    859.1639               \n",
       "9  casual                     Thursday                 1663.3408               \n",
       "10 member                     Thursday                  743.5085               \n",
       "11 casual                     Tuesday                  1702.1567               \n",
       "12 member                     Tuesday                   735.4691               \n",
       "13 casual                     Wednesday                1627.4296               \n",
       "14 member                     Wednesday                 732.1665               "
      ]
     },
     "metadata": {},
     "output_type": "display_data"
    }
   ],
   "source": [
    "aggregate(all_trips_v2$ride_length ~ all_trips_v2$member_casual + all_trips_v2$day_of_week, FUN = mean)"
   ]
  },
  {
   "cell_type": "markdown",
   "metadata": {},
   "source": [
    "13. The day of week is needed to be sorted. So it will be sorted and calculated again"
   ]
  },
  {
   "cell_type": "code",
   "execution_count": 15,
   "metadata": {
    "execution": {
     "iopub.execute_input": "2025-08-09T05:32:42.844625Z",
     "iopub.status.busy": "2025-08-09T05:32:42.843336Z",
     "iopub.status.idle": "2025-08-09T05:32:51.182169Z",
     "shell.execute_reply": "2025-08-09T05:32:51.180432Z"
    },
    "trusted": true,
    "vscode": {
     "languageId": "r"
    }
   },
   "outputs": [
    {
     "data": {
      "text/html": [
       "<table class=\"dataframe\">\n",
       "<caption>A data.frame: 14 × 3</caption>\n",
       "<thead>\n",
       "\t<tr><th scope=col>all_trips_v2$member_casual</th><th scope=col>all_trips_v2$day_of_week</th><th scope=col>all_trips_v2$ride_length</th></tr>\n",
       "\t<tr><th scope=col>&lt;chr&gt;</th><th scope=col>&lt;ord&gt;</th><th scope=col>&lt;dbl&gt;</th></tr>\n",
       "</thead>\n",
       "<tbody>\n",
       "\t<tr><td>casual</td><td>Sunday   </td><td>2203.6463</td></tr>\n",
       "\t<tr><td>member</td><td>Sunday   </td><td> 859.1639</td></tr>\n",
       "\t<tr><td>casual</td><td>Monday   </td><td>1914.6011</td></tr>\n",
       "\t<tr><td>member</td><td>Monday   </td><td> 746.9502</td></tr>\n",
       "\t<tr><td>casual</td><td>Tuesday  </td><td>1702.1567</td></tr>\n",
       "\t<tr><td>member</td><td>Tuesday  </td><td> 735.4691</td></tr>\n",
       "\t<tr><td>casual</td><td>Wednesday</td><td>1627.4296</td></tr>\n",
       "\t<tr><td>member</td><td>Wednesday</td><td> 732.1665</td></tr>\n",
       "\t<tr><td>casual</td><td>Thursday </td><td>1663.3408</td></tr>\n",
       "\t<tr><td>member</td><td>Thursday </td><td> 743.5085</td></tr>\n",
       "\t<tr><td>casual</td><td>Friday   </td><td>1831.7712</td></tr>\n",
       "\t<tr><td>member</td><td>Friday   </td><td> 756.8946</td></tr>\n",
       "\t<tr><td>casual</td><td>Saturday </td><td>2120.3852</td></tr>\n",
       "\t<tr><td>member</td><td>Saturday </td><td> 866.7139</td></tr>\n",
       "</tbody>\n",
       "</table>\n"
      ],
      "text/latex": [
       "A data.frame: 14 × 3\n",
       "\\begin{tabular}{lll}\n",
       " all\\_trips\\_v2\\$member\\_casual & all\\_trips\\_v2\\$day\\_of\\_week & all\\_trips\\_v2\\$ride\\_length\\\\\n",
       " <chr> & <ord> & <dbl>\\\\\n",
       "\\hline\n",
       "\t casual & Sunday    & 2203.6463\\\\\n",
       "\t member & Sunday    &  859.1639\\\\\n",
       "\t casual & Monday    & 1914.6011\\\\\n",
       "\t member & Monday    &  746.9502\\\\\n",
       "\t casual & Tuesday   & 1702.1567\\\\\n",
       "\t member & Tuesday   &  735.4691\\\\\n",
       "\t casual & Wednesday & 1627.4296\\\\\n",
       "\t member & Wednesday &  732.1665\\\\\n",
       "\t casual & Thursday  & 1663.3408\\\\\n",
       "\t member & Thursday  &  743.5085\\\\\n",
       "\t casual & Friday    & 1831.7712\\\\\n",
       "\t member & Friday    &  756.8946\\\\\n",
       "\t casual & Saturday  & 2120.3852\\\\\n",
       "\t member & Saturday  &  866.7139\\\\\n",
       "\\end{tabular}\n"
      ],
      "text/markdown": [
       "\n",
       "A data.frame: 14 × 3\n",
       "\n",
       "| all_trips_v2$member_casual &lt;chr&gt; | all_trips_v2$day_of_week &lt;ord&gt; | all_trips_v2$ride_length &lt;dbl&gt; |\n",
       "|---|---|---|\n",
       "| casual | Sunday    | 2203.6463 |\n",
       "| member | Sunday    |  859.1639 |\n",
       "| casual | Monday    | 1914.6011 |\n",
       "| member | Monday    |  746.9502 |\n",
       "| casual | Tuesday   | 1702.1567 |\n",
       "| member | Tuesday   |  735.4691 |\n",
       "| casual | Wednesday | 1627.4296 |\n",
       "| member | Wednesday |  732.1665 |\n",
       "| casual | Thursday  | 1663.3408 |\n",
       "| member | Thursday  |  743.5085 |\n",
       "| casual | Friday    | 1831.7712 |\n",
       "| member | Friday    |  756.8946 |\n",
       "| casual | Saturday  | 2120.3852 |\n",
       "| member | Saturday  |  866.7139 |\n",
       "\n"
      ],
      "text/plain": [
       "   all_trips_v2$member_casual all_trips_v2$day_of_week all_trips_v2$ride_length\n",
       "1  casual                     Sunday                   2203.6463               \n",
       "2  member                     Sunday                    859.1639               \n",
       "3  casual                     Monday                   1914.6011               \n",
       "4  member                     Monday                    746.9502               \n",
       "5  casual                     Tuesday                  1702.1567               \n",
       "6  member                     Tuesday                   735.4691               \n",
       "7  casual                     Wednesday                1627.4296               \n",
       "8  member                     Wednesday                 732.1665               \n",
       "9  casual                     Thursday                 1663.3408               \n",
       "10 member                     Thursday                  743.5085               \n",
       "11 casual                     Friday                   1831.7712               \n",
       "12 member                     Friday                    756.8946               \n",
       "13 casual                     Saturday                 2120.3852               \n",
       "14 member                     Saturday                  866.7139               "
      ]
     },
     "metadata": {},
     "output_type": "display_data"
    }
   ],
   "source": [
    "all_trips_v2$day_of_week <- ordered(all_trips_v2$day_of_week, levels=c(\"Sunday\", \"Monday\", \"Tuesday\", \"Wednesday\", \"Thursday\", \"Friday\", \"Saturday\"))\n",
    "aggregate(all_trips_v2$ride_length ~ all_trips_v2$member_casual + all_trips_v2$day_of_week, FUN = mean)"
   ]
  },
  {
   "cell_type": "markdown",
   "metadata": {},
   "source": [
    "14. Summarize the result with focused on the type of rider and weekday"
   ]
  },
  {
   "cell_type": "code",
   "execution_count": 16,
   "metadata": {
    "execution": {
     "iopub.execute_input": "2025-08-09T05:32:51.185840Z",
     "iopub.status.busy": "2025-08-09T05:32:51.184527Z",
     "iopub.status.idle": "2025-08-09T05:33:04.938045Z",
     "shell.execute_reply": "2025-08-09T05:33:04.936352Z"
    },
    "trusted": true,
    "vscode": {
     "languageId": "r"
    }
   },
   "outputs": [
    {
     "name": "stderr",
     "output_type": "stream",
     "text": [
      "\u001b[1m\u001b[22m`summarise()` has grouped output by 'member_casual'. You can override using the\n",
      "`.groups` argument.\n"
     ]
    },
    {
     "data": {
      "text/html": [
       "<table class=\"dataframe\">\n",
       "<caption>A grouped_df: 14 × 4</caption>\n",
       "<thead>\n",
       "\t<tr><th scope=col>member_casual</th><th scope=col>weekday</th><th scope=col>number_of_rides</th><th scope=col>average_duration</th></tr>\n",
       "\t<tr><th scope=col>&lt;chr&gt;</th><th scope=col>&lt;ord&gt;</th><th scope=col>&lt;int&gt;</th><th scope=col>&lt;dbl&gt;</th></tr>\n",
       "</thead>\n",
       "<tbody>\n",
       "\t<tr><td>casual</td><td>Sun</td><td>339967</td><td>2203.6463</td></tr>\n",
       "\t<tr><td>casual</td><td>Mon</td><td>240890</td><td>1914.6011</td></tr>\n",
       "\t<tr><td>casual</td><td>Tue</td><td>221475</td><td>1702.1567</td></tr>\n",
       "\t<tr><td>casual</td><td>Wed</td><td>230219</td><td>1627.4296</td></tr>\n",
       "\t<tr><td>casual</td><td>Thu</td><td>256575</td><td>1663.3408</td></tr>\n",
       "\t<tr><td>casual</td><td>Fri</td><td>283510</td><td>1831.7712</td></tr>\n",
       "\t<tr><td>casual</td><td>Sat</td><td>416388</td><td>2120.3852</td></tr>\n",
       "\t<tr><td>member</td><td>Sun</td><td>332319</td><td> 859.1639</td></tr>\n",
       "\t<tr><td>member</td><td>Mon</td><td>418648</td><td> 746.9502</td></tr>\n",
       "\t<tr><td>member</td><td>Tue</td><td>449512</td><td> 735.4691</td></tr>\n",
       "\t<tr><td>member</td><td>Wed</td><td>452942</td><td> 732.1665</td></tr>\n",
       "\t<tr><td>member</td><td>Thu</td><td>452543</td><td> 743.5085</td></tr>\n",
       "\t<tr><td>member</td><td>Fri</td><td>401357</td><td> 756.8946</td></tr>\n",
       "\t<tr><td>member</td><td>Sat</td><td>381088</td><td> 866.7139</td></tr>\n",
       "</tbody>\n",
       "</table>\n"
      ],
      "text/latex": [
       "A grouped\\_df: 14 × 4\n",
       "\\begin{tabular}{llll}\n",
       " member\\_casual & weekday & number\\_of\\_rides & average\\_duration\\\\\n",
       " <chr> & <ord> & <int> & <dbl>\\\\\n",
       "\\hline\n",
       "\t casual & Sun & 339967 & 2203.6463\\\\\n",
       "\t casual & Mon & 240890 & 1914.6011\\\\\n",
       "\t casual & Tue & 221475 & 1702.1567\\\\\n",
       "\t casual & Wed & 230219 & 1627.4296\\\\\n",
       "\t casual & Thu & 256575 & 1663.3408\\\\\n",
       "\t casual & Fri & 283510 & 1831.7712\\\\\n",
       "\t casual & Sat & 416388 & 2120.3852\\\\\n",
       "\t member & Sun & 332319 &  859.1639\\\\\n",
       "\t member & Mon & 418648 &  746.9502\\\\\n",
       "\t member & Tue & 449512 &  735.4691\\\\\n",
       "\t member & Wed & 452942 &  732.1665\\\\\n",
       "\t member & Thu & 452543 &  743.5085\\\\\n",
       "\t member & Fri & 401357 &  756.8946\\\\\n",
       "\t member & Sat & 381088 &  866.7139\\\\\n",
       "\\end{tabular}\n"
      ],
      "text/markdown": [
       "\n",
       "A grouped_df: 14 × 4\n",
       "\n",
       "| member_casual &lt;chr&gt; | weekday &lt;ord&gt; | number_of_rides &lt;int&gt; | average_duration &lt;dbl&gt; |\n",
       "|---|---|---|---|\n",
       "| casual | Sun | 339967 | 2203.6463 |\n",
       "| casual | Mon | 240890 | 1914.6011 |\n",
       "| casual | Tue | 221475 | 1702.1567 |\n",
       "| casual | Wed | 230219 | 1627.4296 |\n",
       "| casual | Thu | 256575 | 1663.3408 |\n",
       "| casual | Fri | 283510 | 1831.7712 |\n",
       "| casual | Sat | 416388 | 2120.3852 |\n",
       "| member | Sun | 332319 |  859.1639 |\n",
       "| member | Mon | 418648 |  746.9502 |\n",
       "| member | Tue | 449512 |  735.4691 |\n",
       "| member | Wed | 452942 |  732.1665 |\n",
       "| member | Thu | 452543 |  743.5085 |\n",
       "| member | Fri | 401357 |  756.8946 |\n",
       "| member | Sat | 381088 |  866.7139 |\n",
       "\n"
      ],
      "text/plain": [
       "   member_casual weekday number_of_rides average_duration\n",
       "1  casual        Sun     339967          2203.6463       \n",
       "2  casual        Mon     240890          1914.6011       \n",
       "3  casual        Tue     221475          1702.1567       \n",
       "4  casual        Wed     230219          1627.4296       \n",
       "5  casual        Thu     256575          1663.3408       \n",
       "6  casual        Fri     283510          1831.7712       \n",
       "7  casual        Sat     416388          2120.3852       \n",
       "8  member        Sun     332319           859.1639       \n",
       "9  member        Mon     418648           746.9502       \n",
       "10 member        Tue     449512           735.4691       \n",
       "11 member        Wed     452942           732.1665       \n",
       "12 member        Thu     452543           743.5085       \n",
       "13 member        Fri     401357           756.8946       \n",
       "14 member        Sat     381088           866.7139       "
      ]
     },
     "metadata": {},
     "output_type": "display_data"
    }
   ],
   "source": [
    "all_trips_v2 %>% \n",
    "  mutate(weekday = wday(started_at, label = TRUE)) %>% \n",
    "  group_by(member_casual, weekday) %>% \n",
    "  summarise(number_of_rides = n(), average_duration =mean(ride_length)) %>% \n",
    "  arrange(member_casual, weekday)"
   ]
  },
  {
   "cell_type": "markdown",
   "metadata": {},
   "source": [
    "15. Visualize the number of riders vs rider of type"
   ]
  },
  {
   "cell_type": "code",
   "execution_count": 17,
   "metadata": {
    "execution": {
     "iopub.execute_input": "2025-08-09T05:33:04.941524Z",
     "iopub.status.busy": "2025-08-09T05:33:04.940257Z",
     "iopub.status.idle": "2025-08-09T05:33:19.327943Z",
     "shell.execute_reply": "2025-08-09T05:33:19.326057Z"
    },
    "trusted": true,
    "vscode": {
     "languageId": "r"
    }
   },
   "outputs": [
    {
     "name": "stderr",
     "output_type": "stream",
     "text": [
      "\u001b[1m\u001b[22m`summarise()` has grouped output by 'member_casual'. You can override using the\n",
      "`.groups` argument.\n"
     ]
    },
    {
     "data": {
      "image/png": "[encoded data removed]"
     },
     "metadata": {
      "image/png": {
       "height": 420,
       "width": 420
      }
     },
     "output_type": "display_data"
    }
   ],
   "source": [
    "# all_trips_v2 %>% \n",
    "#   mutate(weekday = wday(started_at, label = TRUE)) %>% \n",
    "#   group_by (member_casual, weekday) %>% \n",
    "#   summarise(number_of_rides = n(), average_duration = mean(ride_length)) %>% \n",
    "#   arrange(member_casual, weekday) %>% \n",
    "#   ggplot(aes(x = weekday, y = number_of_rides, fill = member_casual)) +\n",
    "#   geom_col(position = \"dodge\")\n",
    "\n",
    "picture_1 <- all_trips_v2 %>% \n",
    "  mutate(weekday = wday(started_at, label = TRUE)) %>% \n",
    "  group_by (member_casual, weekday) %>% \n",
    "  summarise(number_of_rides = n(), average_duration = mean(ride_length)) %>% \n",
    "  arrange(member_casual, weekday) %>% \n",
    "  ggplot(aes(x = weekday, y = number_of_rides, fill = member_casual))\n",
    "\n",
    "picture_1 + geom_col(position = \"dodge\")"
   ]
  },
  {
   "cell_type": "markdown",
   "metadata": {},
   "source": [
    "16. Visualize the duration of lengh vs rider of type"
   ]
  },
  {
   "cell_type": "code",
   "execution_count": 18,
   "metadata": {
    "execution": {
     "iopub.execute_input": "2025-08-09T05:33:19.331668Z",
     "iopub.status.busy": "2025-08-09T05:33:19.330189Z",
     "iopub.status.idle": "2025-08-09T05:33:33.028977Z",
     "shell.execute_reply": "2025-08-09T05:33:33.026296Z"
    },
    "trusted": true,
    "vscode": {
     "languageId": "r"
    }
   },
   "outputs": [
    {
     "name": "stderr",
     "output_type": "stream",
     "text": [
      "\u001b[1m\u001b[22m`summarise()` has grouped output by 'member_casual'. You can override using the\n",
      "`.groups` argument.\n"
     ]
    },
    {
     "data": {
      "image/png": "[encoded data removed]"
     },
     "metadata": {
      "image/png": {
       "height": 420,
       "width": 420
      }
     },
     "output_type": "display_data"
    }
   ],
   "source": [
    "all_trips_v2 %>% \n",
    "  mutate(weekday = wday(started_at, label = TRUE)) %>% \n",
    "  group_by (member_casual, weekday) %>% \n",
    "  summarise(number_of_rides = n(), average_duration = mean(ride_length)) %>% \n",
    "  arrange(member_casual, weekday) %>% \n",
    "  ggplot(aes(x = weekday, y = average_duration, fill = member_casual)) +\n",
    "  geom_col(position = \"dodge\")"
   ]
  },
  {
   "cell_type": "markdown",
   "metadata": {},
   "source": [
    "The ready-to-share version is created in PPT format. You can access here. https://sites.google.com/view/graveoportfolio/home"
   ]
  }
 ],
 "metadata": {
  "kaggle": {
   "accelerator": "none",
   "dataSources": [
    {
     "datasetId": 2722572,
     "sourceId": 4706982,
     "sourceType": "datasetVersion"
    }
   ],
   "dockerImageVersionId": 30303,
   "isGpuEnabled": false,
   "isInternetEnabled": false,
   "language": "r",
   "sourceType": "notebook"
  },
  "kernelspec": {
   "display_name": "R",
   "language": "R",
   "name": "ir"
  },
  "language_info": {
   "codemirror_mode": "r",
   "file_extension": ".r",
   "mimetype": "text/x-r-source",
   "name": "R",
   "pygments_lexer": "r",
   "version": "4.0.5"
  }
 },
 "nbformat": 4,
 "nbformat_minor": 4
}
